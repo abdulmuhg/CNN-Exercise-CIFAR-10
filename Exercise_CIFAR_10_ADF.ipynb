{
  "nbformat": 4,
  "nbformat_minor": 0,
  "metadata": {
    "colab": {
      "name": "[27 3] Exercise CIFAR-10 - ADF",
      "provenance": [],
      "collapsed_sections": [],
      "toc_visible": true,
      "include_colab_link": true
    },
    "kernelspec": {
      "name": "python3",
      "display_name": "Python 3"
    },
    "accelerator": "GPU"
  },
  "cells": [
    {
      "cell_type": "markdown",
      "metadata": {
        "id": "view-in-github",
        "colab_type": "text"
      },
      "source": [
        "<a href=\"https://colab.research.google.com/github/secretymus/CNN-Exercise-CIFAR-10/blob/master/Exercise_CIFAR_10_ADF.ipynb\" target=\"_parent\"><img src=\"https://colab.research.google.com/assets/colab-badge.svg\" alt=\"Open In Colab\"/></a>"
      ]
    },
    {
      "cell_type": "markdown",
      "metadata": {
        "id": "EfwbLGN0zdro",
        "colab_type": "text"
      },
      "source": [
        "<img src = \"https://i.imgur.com/UjutVJd.jpg\" align = \"center\">"
      ]
    },
    {
      "cell_type": "markdown",
      "metadata": {
        "colab_type": "text",
        "id": "4Yj4PyNY7V54"
      },
      "source": [
        "---\n",
        "# Dataset CIFAR-10\n",
        "\n",
        "\n",
        "Jangan lupa, pastikan Colab ini berjalan dengan GPU\n"
      ]
    },
    {
      "cell_type": "code",
      "metadata": {
        "id": "GrnacNg8In1K",
        "colab_type": "code",
        "colab": {}
      },
      "source": [
        "import numpy as np\n",
        "import matplotlib.pyplot as plt\n",
        "%matplotlib inline\n",
        "\n",
        "np.set_printoptions(precision=7)"
      ],
      "execution_count": 0,
      "outputs": []
    },
    {
      "cell_type": "markdown",
      "metadata": {
        "id": "tz9rpwvIIn1T",
        "colab_type": "text"
      },
      "source": [
        "---\n",
        "## Load Dataset CIFAR-10\n",
        "\n",
        "\n",
        "\n"
      ]
    },
    {
      "cell_type": "code",
      "metadata": {
        "id": "e9lcWKk9In1U",
        "colab_type": "code",
        "colab": {}
      },
      "source": [
        "import tensorflow as tf\n",
        "\n",
        "(X_train, y_train), (X_test, y_test) = tf.keras.datasets.cifar10.load_data()\n",
        "\n",
        "classes = ['plane', 'car', 'bird', 'cat', 'deer', 'dog', 'frog', 'horse', 'ship', 'truck']\n",
        "\n",
        "print('X_train.shape =',X_train.shape)\n",
        "print('y_train.shape =',y_train.shape)\n",
        "print('X_test.shape  =',X_test.shape)\n",
        "print('y_test.shape  =',y_test.shape)"
      ],
      "execution_count": 0,
      "outputs": []
    },
    {
      "cell_type": "markdown",
      "metadata": {
        "id": "9rhC32AWIn1Z",
        "colab_type": "text"
      },
      "source": [
        "---\n",
        "## Visualisasi Data CIFAR-10\n"
      ]
    },
    {
      "cell_type": "code",
      "metadata": {
        "id": "Zk4QVV87In1b",
        "colab_type": "code",
        "colab": {}
      },
      "source": [
        "fig, ax = plt.subplots(2,10,figsize=(15,4.5))\n",
        "fig.subplots_adjust(hspace=0.1, wspace=0.1)\n",
        "for j in range(0,2):\n",
        "    for i in range(0, 10):\n",
        "        ax[j,i].imshow(X_train[i+j*10])\n",
        "        ax[j,i].set_title(classes[y_train[i+j*10,0]])\n",
        "        ax[j,i].axis('off')\n",
        "plt.show()"
      ],
      "execution_count": 0,
      "outputs": []
    },
    {
      "cell_type": "markdown",
      "metadata": {
        "id": "uhUO9G5MIn1g",
        "colab_type": "text"
      },
      "source": [
        "---\n",
        "## Bagi Data Validasi\n",
        "Ambil 10,000 data terakhir dari data latih menjadi data Validasi di dalam matrix `X_val` dan `y_val`"
      ]
    },
    {
      "cell_type": "code",
      "metadata": {
        "id": "oCSjAqPzIn1i",
        "colab_type": "code",
        "colab": {}
      },
      "source": [
        "X_val = X_train[-10000:,:]\n",
        "y_val = y_train[-10000:]\n",
        "\n",
        "X_train = X_train[:-10000, :]\n",
        "y_train = y_train[:-10000]\n",
        "\n",
        "print('X_val.shape   =',X_val.shape)\n",
        "print('y_val.shape   =',y_val.shape)\n",
        "print('X_train.shape =',X_train.shape)\n",
        "print('y_train.shape =',y_train.shape)"
      ],
      "execution_count": 0,
      "outputs": []
    },
    {
      "cell_type": "markdown",
      "metadata": {
        "id": "ZonG85IOIn1o",
        "colab_type": "text"
      },
      "source": [
        "---\n",
        "## Normalizing Data"
      ]
    },
    {
      "cell_type": "code",
      "metadata": {
        "id": "yfEl2gZJIn1p",
        "colab_type": "code",
        "colab": {}
      },
      "source": [
        "X_train = X_train.astype('float32')\n",
        "X_val = X_val.astype('float32')\n",
        "X_test = X_test.astype('float32')\n",
        "\n",
        "mean_image = np.mean(X_train, axis = 0)\n",
        "X_train -= mean_image\n",
        "X_val -= mean_image\n",
        "X_test -= mean_image\n",
        "\n",
        "print('X_train.shape =',X_train.shape)\n",
        "print('X_val.shape   =',X_val.shape)\n",
        "print('X_test.shape  =',X_test.shape)\n"
      ],
      "execution_count": 0,
      "outputs": []
    },
    {
      "cell_type": "markdown",
      "metadata": {
        "id": "rQohd54TIn1x",
        "colab_type": "text"
      },
      "source": [
        "---\n",
        "## One Hot Matrix\n",
        "\n"
      ]
    },
    {
      "cell_type": "markdown",
      "metadata": {
        "id": "kveJWXJYIn14",
        "colab_type": "text"
      },
      "source": [
        " Ubah vektor target `y_train`, `y_val`, dan `y_test` menjadi bentuk One-Hot Matrix"
      ]
    },
    {
      "cell_type": "code",
      "metadata": {
        "id": "neQU8KqDIn1_",
        "colab_type": "code",
        "colab": {}
      },
      "source": [
        "from tensorflow.keras.utils import to_categorical\n",
        "\n",
        "y_train_hot = to_categorical(y_train.ravel(), 10)\n",
        "y_val_hot = to_categorical(y_val.ravel(), 10)\n",
        "y_test_hot = to_categorical(y_test.ravel(), 10)\n",
        "\n",
        "print('y_train_hot.shape =',y_train_hot.shape)\n",
        "print('y_val_hot.shape   =',y_val_hot.shape)\n",
        "print('y_test_hot.shape  =',y_test_hot.shape)"
      ],
      "execution_count": 0,
      "outputs": []
    },
    {
      "cell_type": "markdown",
      "metadata": {
        "colab_type": "text",
        "id": "ld_C6JC4olXG"
      },
      "source": [
        "---\n",
        "\n",
        "# Rancanglah Jaringan Convolutional Neural Network-mu\n",
        "\n"
      ]
    },
    {
      "cell_type": "markdown",
      "metadata": {
        "colab_type": "text",
        "id": "eTtsOpepolXN"
      },
      "source": [
        "---\n",
        "## Import Modul\n",
        "\n"
      ]
    },
    {
      "cell_type": "code",
      "metadata": {
        "colab_type": "code",
        "id": "mYdhz2T2olXS",
        "colab": {}
      },
      "source": [
        "from tensorflow.keras.models import Sequential\n",
        "from tensorflow.keras.layers import Flatten\n",
        "from tensorflow.keras.layers import Dense\n",
        "from tensorflow.keras.layers import Conv2D\n",
        "from tensorflow.keras.layers import MaxPooling2D\n",
        "\n",
        "num_data    = X_train.shape[0]\n",
        "X_dim       = X_train.shape[1]\n",
        "num_classes = y_train_hot.shape[1]"
      ],
      "execution_count": 0,
      "outputs": []
    },
    {
      "cell_type": "markdown",
      "metadata": {
        "colab_type": "text",
        "id": "D_BNctCnolXZ"
      },
      "source": [
        "---\n",
        "## Model Jaringan\n"
      ]
    },
    {
      "cell_type": "code",
      "metadata": {
        "colab_type": "code",
        "id": "n7uDuN9BolXc",
        "colab": {}
      },
      "source": [
        "# create model compact sequential\n",
        "\n",
        "model_cnn = Sequential([\n",
        "  Conv2D(??,(??,??),input_shape=(32,32,3), padding='same', activation=\"relu\"),\n",
        "    \n",
        "  ??,\n",
        "    \n",
        "  Dense(num_classes, activation=\"softmax\")\n",
        "])\n",
        "\n",
        "model_cnn.summary()"
      ],
      "execution_count": 0,
      "outputs": []
    },
    {
      "cell_type": "markdown",
      "metadata": {
        "colab_type": "text",
        "id": "DNJmngIeolXm"
      },
      "source": [
        "---\n",
        "## Melatih Model"
      ]
    },
    {
      "cell_type": "code",
      "metadata": {
        "colab_type": "code",
        "id": "j7-hIlWEolXo",
        "colab": {}
      },
      "source": [
        "# Compile model\n",
        "model_cnn.compile(loss='categorical_crossentropy', \n",
        "              optimizer='adam', metrics=['accuracy'])\n",
        "\n",
        "\n",
        "num_epochs = 15\n",
        "batch_size = 1000\n",
        "\n",
        "hist_cnn = model_cnn.fit(X_train, y_train_hot, \n",
        "          validation_data=(X_val, y_val_hot),\n",
        "          epochs=num_epochs, batch_size=batch_size, \n",
        "          verbose=2)"
      ],
      "execution_count": 0,
      "outputs": []
    },
    {
      "cell_type": "markdown",
      "metadata": {
        "colab_type": "text",
        "id": "0BUZEHLMolXr"
      },
      "source": [
        "---\n",
        "## Evaluasi Model\n"
      ]
    },
    {
      "cell_type": "code",
      "metadata": {
        "colab_type": "code",
        "id": "lAmucgajolXt",
        "colab": {}
      },
      "source": [
        "scores_cnn = model_cnn.evaluate(X_test, y_test_hot, verbose=1)\n",
        "print(\"\\nModel Accuracy: %.2f%%\" % (scores_cnn[1]*100))"
      ],
      "execution_count": 0,
      "outputs": []
    },
    {
      "cell_type": "markdown",
      "metadata": {
        "id": "AAdNRfYCuJVB",
        "colab_type": "text"
      },
      "source": [
        "---\n",
        "## Grafik Hasil Pelatihan"
      ]
    },
    {
      "cell_type": "code",
      "metadata": {
        "id": "_B364ZEqzNw2",
        "colab_type": "code",
        "colab": {}
      },
      "source": [
        "fig, ax = plt.subplots(1,2,figsize=(10,3))\n",
        "\n",
        "ax[0].plot(hist_cnn.history['loss'])\n",
        "ax[0].plot(hist_cnn.history['val_loss'])\n",
        "ax[0].set_title('Training Loss')\n",
        "ax[0].set_ylabel('Loss')\n",
        "ax[0].set_xlabel('Epoch')\n",
        "ax[0].legend(['train', 'val'], loc='lower right')\n",
        "\n",
        "ax[1].plot(hist_cnn.history['acc'])\n",
        "ax[1].plot(hist_cnn.history['val_acc'])\n",
        "ax[1].set_title('Training Accuracy')\n",
        "ax[1].set_ylabel('Accuracy')\n",
        "ax[1].set_xlabel('Epoch')\n",
        "ax[1].legend(['train', 'val'], loc='lower right')\n",
        "plt.show()"
      ],
      "execution_count": 0,
      "outputs": []
    },
    {
      "cell_type": "markdown",
      "metadata": {
        "id": "nObjtkQA8s89",
        "colab_type": "text"
      },
      "source": [
        "**Selama belum terjadi overfitting, artinya model bisa dilatih lebih lanjut atau diperdalam**"
      ]
    },
    {
      "cell_type": "markdown",
      "metadata": {
        "id": "46FJspL2Fq0q",
        "colab_type": "text"
      },
      "source": [
        "# Menguji Pada Image Dari Internet\n",
        "* Search Gambar di Internet (Google Image)\n",
        "* Copy Image Address\n",
        "* Paste Image Address ke cell di bawah"
      ]
    },
    {
      "cell_type": "code",
      "metadata": {
        "id": "CkFlqQoIF0YD",
        "colab_type": "code",
        "colab": {}
      },
      "source": [
        "!wget -O 'test.jpg' 'url_image_address'"
      ],
      "execution_count": 0,
      "outputs": []
    },
    {
      "cell_type": "markdown",
      "metadata": {
        "id": "gxfz7pGFGa1o",
        "colab_type": "text"
      },
      "source": [
        "## Load Image"
      ]
    },
    {
      "cell_type": "code",
      "metadata": {
        "id": "OBaJnd2gF6X_",
        "colab_type": "code",
        "colab": {}
      },
      "source": [
        "from PIL import Image\n",
        "import cv2 as cv\n",
        "\n",
        "new_img = Image.open('test.jpg')\n",
        "new_img = np.array(new_img)\n",
        "plt.imshow(new_img)\n",
        "plt.show"
      ],
      "execution_count": 0,
      "outputs": []
    },
    {
      "cell_type": "markdown",
      "metadata": {
        "id": "V9i3hOXSGrn_",
        "colab_type": "text"
      },
      "source": [
        "## Resize Image"
      ]
    },
    {
      "cell_type": "code",
      "metadata": {
        "id": "epsUsupMF8km",
        "colab_type": "code",
        "colab": {}
      },
      "source": [
        "new_img2 = cv.resize(new_img, (32,32), interpolation=cv.INTER_AREA)\n",
        "plt.imshow(new_img2)\n",
        "plt.show()"
      ],
      "execution_count": 0,
      "outputs": []
    },
    {
      "cell_type": "code",
      "metadata": {
        "id": "tsErSYdrF8bg",
        "colab_type": "code",
        "colab": {}
      },
      "source": [
        "print(new_img2.shape)\n",
        "new_img2 = np.expand_dims(new_img2,0)\n",
        "print(new_img2.shape)"
      ],
      "execution_count": 0,
      "outputs": []
    },
    {
      "cell_type": "markdown",
      "metadata": {
        "id": "FkRPK7PGGu6n",
        "colab_type": "text"
      },
      "source": [
        "## View Prediction"
      ]
    },
    {
      "cell_type": "code",
      "metadata": {
        "id": "3KxFtIOSF_fS",
        "colab_type": "code",
        "colab": {}
      },
      "source": [
        "pred = model_cnn.predict(new_img2)\n",
        "class_id = np.argmax(pred)\n",
        "print(class_id)\n",
        "print('kelas prediksi', classes[class_id])"
      ],
      "execution_count": 0,
      "outputs": []
    },
    {
      "cell_type": "markdown",
      "metadata": {
        "id": "uB_ojCQ6zmKS",
        "colab_type": "text"
      },
      "source": [
        "<p>Copyright &copy; 2019 <a href=https://www.linkedin.com/in/andityaarifianto/>ADF</a> </p>\n",
        "\n"
      ]
    }
  ]
}